{
  "nbformat": 4,
  "nbformat_minor": 0,
  "metadata": {
    "colab": {
      "provenance": []
    },
    "kernelspec": {
      "name": "python3",
      "display_name": "Python 3"
    },
    "language_info": {
      "name": "python"
    }
  },
  "cells": [
    {
      "cell_type": "code",
      "source": [
        "import re\n",
        "import pandas as pd\n",
        "import numpy as np\n",
        "import matplotlib.pyplot as plt\n",
        "from google.colab import drive\n",
        "import ee\n",
        "ee.Authenticate()\n",
        "import os\n",
        "\n",
        "drive.mount('/content/drive') #drive connection\n",
        "\n"
      ],
      "metadata": {
        "colab": {
          "base_uri": "https://localhost:8080/"
        },
        "id": "vPSGFUEn94ne",
        "outputId": "c068986e-43f6-414e-ef4a-a41f52f94de6"
      },
      "execution_count": null,
      "outputs": [
        {
          "output_type": "stream",
          "name": "stdout",
          "text": [
            "Mounted at /content/drive\n"
          ]
        }
      ]
    },
    {
      "cell_type": "code",
      "source": [
        "def analyze_built_area(polygon_coords, output_path):\n",
        "\n",
        "\n",
        "    try:\n",
        "        ee.Initialize(project='nth-infusion-437410-b6')\n",
        "    except Exception:\n",
        "        print(\"Authentication error. Attempting to authenticate...\")\n",
        "        try:\n",
        "            ee.Authenticate()\n",
        "            ee.Initialize(project='nth-infusion-437410-b6')\n",
        "            print(\"Authentication successful!\")\n",
        "        except Exception as auth_error:\n",
        "            print(f\"Authentication failed: {auth_error}\")\n",
        "            print(\"Please run 'earthengine authenticate' in your command line first.\")\n",
        "            return None\n",
        "\n",
        "\n",
        "    area = ee.Geometry.Polygon([polygon_coords])\n",
        "\n",
        "\n",
        "    total_area = ee.Number(area.area()).divide(1e6).getInfo()\n",
        "    print(f'Total Area (km²): {total_area}')\n",
        "\n",
        "\n",
        "    start_year = 2015\n",
        "    end_year = 2025\n",
        "    date_ranges = []\n",
        "\n",
        "    for year in range(start_year, end_year + 1):\n",
        "\n",
        "        date_ranges.append({\n",
        "            'startDate': ee.Date.fromYMD(year, 1, 1),\n",
        "            'endDate': ee.Date.fromYMD(year, 6, 30),\n",
        "            'year': year,\n",
        "            'period': 1\n",
        "        })\n",
        "\n",
        "\n",
        "        date_ranges.append({\n",
        "            'startDate': ee.Date.fromYMD(year, 7, 1),\n",
        "            'endDate': ee.Date.fromYMD(year, 12, 31),\n",
        "            'year': year,\n",
        "            'period': 2\n",
        "        })\n",
        "\n",
        "\n",
        "    all_results = []\n",
        "\n",
        "\n",
        "    for range_info in date_ranges:\n",
        "\n",
        "        collection = ee.ImageCollection('GOOGLE/DYNAMICWORLD/V1') \\\n",
        "            .filterDate(range_info['startDate'], range_info['endDate']) \\\n",
        "            .filterBounds(area)\n",
        "\n",
        "\n",
        "        count = collection.size().getInfo()\n",
        "        if count == 0:\n",
        "            print(f\"{range_info['year']} yılı {range_info['period']}. yarıyıl için görüntü bulunamadı.\")\n",
        "            continue\n",
        "\n",
        "        print(f\"{range_info['year']} yılı {range_info['period']}. yarıyıl için kullanılan görüntü sayısı: {count}\")\n",
        "\n",
        "\n",
        "        built_images = collection.select('built')\n",
        "\n",
        "\n",
        "        image_list = built_images.toList(count)\n",
        "\n",
        "        for i in range(count):\n",
        "            image = ee.Image(image_list.get(i))\n",
        "            image_id = image.id().getInfo()\n",
        "\n",
        "\n",
        "            built_area_dict = image.multiply(ee.Image.pixelArea()) \\\n",
        "                .reduceRegion(\n",
        "                    reducer=ee.Reducer.sum(),\n",
        "                    geometry=area,\n",
        "                    scale=10,\n",
        "                    maxPixels=1e10\n",
        "                ).getInfo()\n",
        "\n",
        "\n",
        "            built_area_km2 = float(built_area_dict['built']) / 1e6\n",
        "            built_percentage = (built_area_km2 / total_area) * 100\n",
        "\n",
        "\n",
        "            result = {\n",
        "                'year': range_info['year'],\n",
        "                'period': range_info['period'],\n",
        "                'date': f\"{range_info['year']}-P{range_info['period']}\",\n",
        "                'image_id': image_id,\n",
        "                'built_area_km2': built_area_km2,\n",
        "                'built_percentage': built_percentage,\n",
        "                'total_area_km2': total_area\n",
        "            }\n",
        "\n",
        "            all_results.append(result)\n",
        "\n",
        "\n",
        "    if all_results:\n",
        "        df = pd.DataFrame(all_results)\n",
        "        df.to_csv(output_path, index=False)\n",
        "        print(f\"Analysis complete. Results saved to {output_path}\")\n",
        "        return df\n",
        "    else:\n",
        "        print(\"No results found for the given time periods.\")\n",
        "        return None"
      ],
      "metadata": {
        "id": "2fhH1_Rw-8fU"
      },
      "execution_count": null,
      "outputs": []
    },
    {
      "cell_type": "code",
      "source": [
        "def ilce_bazli_arama(izmir_poligon_path , ilce ):\n",
        "  #ikisi de string formatında olacak. 'izmir poligonun dosyasının colabde bulunabiliyor olması gerek.\n",
        "  #ilce içinde dosyada nasıl kayıtlıysa o şekilde örneğin 'torbali' ya da 'bornova' gibi girilmesi yeterlidir.\n",
        "  folder_list = [e for e in os.listdir(polygons_path) if e.find('.') == -1] #path üzerine kayıtlı olan tüm ilçelerin isimleri.\n",
        "  zone_dict = {} #zone bazlı klasörler.\n",
        "  allzonedirs = {} #directory'ler direkt burada. İlçe bazlı ayırdım. Üsttekini kullanmaya gerek yok.\n",
        "  for e in folder_list:\n",
        "    zones = os.listdir(polygons_path + '/' + e)\n",
        "    zone_dict[e] = zones\n",
        "    n = 105 - len(zone_dict[e])\n",
        "    zone_dict[e] = zone_dict[e] + n * [None]\n",
        "    allzonedirs[e] =  [polygons_path + '/' + e +'/' + zone for zone in zones]\n",
        "\n",
        "  for dirs in allzonedirs[ilce]:\n",
        "    with open(dirs , 'r') as doc :\n",
        "      kazım = doc.read()\n",
        "      kerem = re.findall('\\d{2}.\\d*,\\d{2}.\\d*', kazım)\n",
        "      mükremin = []\n",
        "      for e in kerem :\n",
        "        mükremin.append(np.array(e.split(',')).astype(float))\n",
        "    analyze_built_area([list(e) for e in mükremin] , dirs[:-4] + '_rawdata.csv')"
      ],
      "metadata": {
        "id": "K-he0yIo94EP"
      },
      "execution_count": null,
      "outputs": []
    },
    {
      "cell_type": "code",
      "source": [
        "polygons_path = \"/content/drive/MyDrive/torbali/izmir_poligonlar\" # drive'ından izmir_poligonlar klasörü neredeyse orası.\n",
        "ilce = 'torbali' #örnek ilçe\n",
        "ilce_bazli_arama(polygons_path , ilce)"
      ],
      "metadata": {
        "id": "2t_A-JuNEZu3"
      },
      "execution_count": null,
      "outputs": []
    }
  ]
}